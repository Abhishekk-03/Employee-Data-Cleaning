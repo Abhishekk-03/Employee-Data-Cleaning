{
 "cells": [
  {
   "cell_type": "code",
   "execution_count": 1,
   "id": "54f174e3-fc57-4753-a368-9dee3a410339",
   "metadata": {},
   "outputs": [],
   "source": [
    "#Importing necessary libraries \n",
    "import pandas as pd\n",
    "import numpy as np"
   ]
  },
  {
   "cell_type": "code",
   "execution_count": 2,
   "id": "37fc6d53-05da-4fd4-a287-44949b5bac72",
   "metadata": {},
   "outputs": [
    {
     "name": "stdout",
     "output_type": "stream",
     "text": [
      "   Emp_ID          Name  Age  Salary (INR)  Experience (Years)       City  \\\n",
      "0     101   Amit Sharma   27      650000.0                 4.0      Delhi   \n",
      "1     102    Riya Gupta   32           NaN                 8.0     Mumbai   \n",
      "2     103  Rajesh Verma   45     1200000.0                 inf  Bangalore   \n",
      "3     104   Priya Singh   29      720000.0                 6.0    Kolkata   \n",
      "4     105   Sunil Kumar   26      500000.0                 3.0    Chennai   \n",
      "\n",
      "  Department  Performance Rating  \n",
      "0         IT                 4.5  \n",
      "1         HR                 3.8  \n",
      "2    Finance                 4.9  \n",
      "3         IT                 4.2  \n",
      "4      Sales                 NaN  \n"
     ]
    }
   ],
   "source": [
    "#loading the dataset\n",
    "df = pd.read_csv('Download employee_data.csv')\n",
    "\n",
    "print(df.head())"
   ]
  },
  {
   "cell_type": "code",
   "execution_count": 3,
   "id": "a6989dc5-c2fd-47ae-8345-7ce69fae796f",
   "metadata": {},
   "outputs": [
    {
     "data": {
      "text/plain": [
       "Emp_ID                0\n",
       "Name                  0\n",
       "Age                   0\n",
       "Salary (INR)          2\n",
       "Experience (Years)    0\n",
       "City                  0\n",
       "Department            0\n",
       "Performance Rating    1\n",
       "dtype: int64"
      ]
     },
     "execution_count": 3,
     "metadata": {},
     "output_type": "execute_result"
    }
   ],
   "source": [
    "#checking the missing values\n",
    "df.isnull().sum()"
   ]
  },
  {
   "cell_type": "code",
   "execution_count": 4,
   "id": "72d729cd-adaf-4298-8514-b6fa1c533141",
   "metadata": {},
   "outputs": [],
   "source": [
    "#Fill average salary & median rating instead of null values\n",
    "df['Salary (INR)'] = df['Salary (INR)'].fillna(df['Salary (INR)'].mean())\n",
    "df['Performance Rating'] = df['Performance Rating'].fillna(df['Performance Rating'].median())"
   ]
  },
  {
   "cell_type": "code",
   "execution_count": 5,
   "id": "b482cad3-b951-4a47-9978-7aa9d9edfed9",
   "metadata": {},
   "outputs": [],
   "source": [
    "#Handle inf. values\n",
    "df.replace([np.inf, -np.inf], np.nan, inplace=True)\n",
    "df.fillna(df.mean(numeric_only=True), inplace=True)"
   ]
  },
  {
   "cell_type": "code",
   "execution_count": 6,
   "id": "6e9fbde9-b667-420d-af97-1339483429a6",
   "metadata": {},
   "outputs": [],
   "source": [
    "#Remove Duplicates rows\n",
    "df.drop_duplicates(inplace=True)"
   ]
  },
  {
   "cell_type": "code",
   "execution_count": 7,
   "id": "b490753a-da50-4d78-8240-3e79dd7b1744",
   "metadata": {},
   "outputs": [],
   "source": [
    "#replace negative salaries\n",
    "df['Salary (INR)'] = np.where(df['Salary (INR)'] <0, df['Salary (INR)'].mean(), df['Salary (INR)'])"
   ]
  },
  {
   "cell_type": "code",
   "execution_count": 8,
   "id": "743c9628-bca1-485c-8ca2-c7c857d1e006",
   "metadata": {},
   "outputs": [],
   "source": [
    "#Remove unnecessary higher slaries\n",
    "salary_mean = df['Salary (INR)'].mean()\n",
    "salary_std = df['Salary (INR)'].std()\n",
    "lower_bound = salary_mean - (3 * salary_std)\n",
    "upper_bound = salary_mean + (3 * salary_std)\n",
    "\n",
    "df = df[(df['Salary (INR)'] >= lower_bound) & (df['Salary (INR)'] <= upper_bound)]"
   ]
  },
  {
   "cell_type": "code",
   "execution_count": 9,
   "id": "ee9be437-392c-4c0d-a9bc-b4fa56fab912",
   "metadata": {},
   "outputs": [],
   "source": [
    "#load cleaned data\n",
    "df.to_csv('Cleaned_data.csv')"
   ]
  },
  {
   "cell_type": "code",
   "execution_count": null,
   "id": "dbb45fc4-7666-4b26-826a-7253140f04de",
   "metadata": {},
   "outputs": [],
   "source": []
  }
 ],
 "metadata": {
  "kernelspec": {
   "display_name": "Python 3 (ipykernel)",
   "language": "python",
   "name": "python3"
  },
  "language_info": {
   "codemirror_mode": {
    "name": "ipython",
    "version": 3
   },
   "file_extension": ".py",
   "mimetype": "text/x-python",
   "name": "python",
   "nbconvert_exporter": "python",
   "pygments_lexer": "ipython3",
   "version": "3.13.3"
  }
 },
 "nbformat": 4,
 "nbformat_minor": 5
}
